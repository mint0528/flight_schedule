{
 "cells": [
  {
   "cell_type": "markdown",
   "metadata": {},
   "source": [
    "1. The departure time of *flight i* is later than the landing time of *flight j*\n",
    "2. The departure airport of *flight i* is in one hour distance of *flight j*'s landing airport."
   ]
  },
  {
   "cell_type": "code",
   "execution_count": 1,
   "metadata": {},
   "outputs": [],
   "source": [
    "import numpy as np\n",
    "import pandas as pd"
   ]
  },
  {
   "cell_type": "code",
   "execution_count": 2,
   "metadata": {},
   "outputs": [],
   "source": [
    "coordinates = np.array([[565.0,575.0],[25.0,185.0],[345.0,750.0],[945.0,685.0],[845.0,655.0],\n",
    "                        [880.0,660.0],[25.0,230.0],[525.0,1000.0],[580.0,1175.0],[650.0,1130.0],\n",
    "                        [1605.0,620.0],[1220.0,580.0],[1465.0,200.0],[1530.0,  5.0],[845.0,680.0],\n",
    "                        [725.0,370.0],[145.0,665.0],[415.0,635.0],[510.0,875.0],[560.0,365.0],\n",
    "                        [300.0,465.0],[520.0,585.0],[480.0,415.0],[835.0,625.0],[975.0,580.0],\n",
    "                        [1215.0,245.0],[1320.0,315.0],[1250.0,400.0],[660.0,180.0],[410.0,250.0],\n",
    "                        [420.0,555.0],[575.0,665.0],[1150.0,1160.0],[700.0,580.0],[685.0,595.0],\n",
    "                        [685.0,610.0],[770.0,610.0],[795.0,645.0],[720.0,635.0],[760.0,650.0],\n",
    "                        [475.0,960.0],[95.0,260.0],[875.0,920.0],[700.0,500.0],[555.0,815.0],\n",
    "                        [830.0,485.0],[1170.0, 65.0],[830.0,610.0],[605.0,625.0],[595.0,360.0],\n",
    "                        [1340.0,725.0],[1740.0,245.0]])"
   ]
  },
  {
   "cell_type": "code",
   "execution_count": 3,
   "metadata": {},
   "outputs": [
    {
     "data": {
      "text/plain": [
       "(52, 2)"
      ]
     },
     "execution_count": 3,
     "metadata": {},
     "output_type": "execute_result"
    }
   ],
   "source": [
    "coordinates.shape"
   ]
  },
  {
   "cell_type": "code",
   "execution_count": 6,
   "metadata": {},
   "outputs": [],
   "source": [
    "def get_distmat(coordinates):\n",
    "    num = coordinates.shape[0]\n",
    "    distmat = np.zeros((52,52))\n",
    "    for i in range(num):\n",
    "        for j in range(i, num):\n",
    "            distmat[i][j]= distmat[j][i] = np.linalg.norm(coordinates[i]-coordinates[j])\n",
    "    return distmat        "
   ]
  },
  {
   "cell_type": "code",
   "execution_count": 7,
   "metadata": {},
   "outputs": [],
   "source": [
    "distmat = get_distmat(coordinates)"
   ]
  },
  {
   "cell_type": "code",
   "execution_count": 10,
   "metadata": {},
   "outputs": [
    {
     "data": {
      "text/plain": [
       "603.5105632878351"
      ]
     },
     "execution_count": 10,
     "metadata": {},
     "output_type": "execute_result"
    }
   ],
   "source": [
    "#distmat[3][2]"
   ]
  },
  {
   "cell_type": "code",
   "execution_count": 11,
   "metadata": {},
   "outputs": [],
   "source": [
    "numant = 40"
   ]
  },
  {
   "cell_type": "code",
   "execution_count": 12,
   "metadata": {},
   "outputs": [],
   "source": [
    "numcity = coordinates.shape[0]"
   ]
  },
  {
   "cell_type": "code",
   "execution_count": 15,
   "metadata": {},
   "outputs": [],
   "source": [
    "alpha = 1"
   ]
  },
  {
   "cell_type": "code",
   "execution_count": 16,
   "metadata": {},
   "outputs": [],
   "source": [
    "beta = 5"
   ]
  },
  {
   "cell_type": "code",
   "execution_count": 17,
   "metadata": {},
   "outputs": [],
   "source": [
    "rho = 0.1"
   ]
  },
  {
   "cell_type": "code",
   "execution_count": 18,
   "metadata": {},
   "outputs": [],
   "source": [
    "Q = 1"
   ]
  },
  {
   "cell_type": "code",
   "execution_count": 19,
   "metadata": {},
   "outputs": [],
   "source": [
    "iter = 0"
   ]
  },
  {
   "cell_type": "code",
   "execution_count": 20,
   "metadata": {},
   "outputs": [],
   "source": [
    "itermax = 200 "
   ]
  },
  {
   "cell_type": "code",
   "execution_count": 22,
   "metadata": {},
   "outputs": [
    {
     "data": {
      "text/plain": [
       "array([[1, 0, 0],\n",
       "       [0, 2, 0],\n",
       "       [0, 0, 3]])"
      ]
     },
     "execution_count": 22,
     "metadata": {},
     "output_type": "execute_result"
    }
   ],
   "source": [
    "np.diag([1, 2, 3])"
   ]
  },
  {
   "cell_type": "code",
   "execution_count": 23,
   "metadata": {},
   "outputs": [],
   "source": [
    "etatable = 1.0/(distmat + np.diag([1e10]*numcity))"
   ]
  },
  {
   "cell_type": "code",
   "execution_count": 36,
   "metadata": {},
   "outputs": [],
   "source": [
    "pheromonetable = np.ones((numcity,numcity))"
   ]
  },
  {
   "cell_type": "code",
   "execution_count": 37,
   "metadata": {},
   "outputs": [],
   "source": [
    "pathtable = np.zeros((numant,numcity)).astype(int)"
   ]
  },
  {
   "cell_type": "code",
   "execution_count": 38,
   "metadata": {},
   "outputs": [],
   "source": [
    "lengthaver = np.zeros(itermax)"
   ]
  },
  {
   "cell_type": "code",
   "execution_count": 41,
   "metadata": {},
   "outputs": [],
   "source": [
    "lengthbest = np.zeros(itermax)"
   ]
  },
  {
   "cell_type": "code",
   "execution_count": 42,
   "metadata": {},
   "outputs": [],
   "source": [
    "pathbest = np.zeros((itermax, numcity))"
   ]
  },
  {
   "cell_type": "code",
   "execution_count": 65,
   "metadata": {},
   "outputs": [
    {
     "name": "stdout",
     "output_type": "stream",
     "text": [
      "最短路径8896.93242728米\n",
      "经过城市[31. 48.  0. 21. 30. 17. 43. 33. 34. 35. 38. 39. 37. 23. 47.  4. 14.  5.\n",
      "  3. 24. 45. 15. 28. 19. 49. 22. 29.  6.  1. 41. 16. 20.  2. 18. 44. 40.\n",
      "  7.  9.  8. 42. 32. 50. 11. 27. 26. 25. 46. 12. 13. 51. 10. 36.]\n",
      "最短路径8632.59802731米\n",
      "经过城市[23. 47.  4. 14.  5.  3. 24. 36. 37. 39. 38. 35. 34. 33. 43. 48. 31. 44.\n",
      " 18. 40.  7.  8.  9. 42. 32. 50. 11. 27. 26. 25. 46. 13. 12. 51. 10. 45.\n",
      " 15. 49. 19. 22. 21.  0. 30. 17.  2. 16. 20. 41.  6.  1. 29. 28.]\n",
      "最短路径8543.12674989米\n",
      "经过城市[ 6.  1. 41. 20. 29. 22. 19. 49. 15. 43. 33. 34. 35. 38. 39. 37. 23. 47.\n",
      "  4. 14.  5.  3. 24. 45. 36. 48.  0. 21. 31. 44. 18. 40.  7.  9.  8. 42.\n",
      " 32. 11. 50. 10. 51. 13. 12. 26. 27. 25. 46. 28. 17. 30.  2. 16.]\n",
      "当前迭代次数20\n",
      "最短路径8402.18759857米\n",
      "经过城市[37. 23. 47.  4. 14.  5.  3. 24. 45. 43. 34. 35. 33. 38. 39. 36. 48. 31.\n",
      "  0. 21. 17. 30. 20. 22. 19. 49. 15. 28. 29.  1.  6. 41. 16.  2. 44. 18.\n",
      " 40.  7.  8.  9. 42. 32. 50. 11. 27. 26. 25. 46. 13. 12. 51. 10.]\n",
      "最短路径8076.29718715米\n",
      "经过城市[34. 33. 35. 39. 37. 36. 38. 48. 31. 21.  0. 43. 15. 49. 19. 22. 30. 17.\n",
      "  2. 16. 20. 41.  6.  1. 29. 28. 45. 47. 23.  4. 14.  5.  3. 24. 11. 27.\n",
      " 26. 25. 46. 12. 13. 51. 10. 50. 32. 42.  9.  8.  7. 40. 18. 44.]\n",
      "最短路径7932.33534013米\n",
      "经过城市[45. 43. 33. 34. 35. 38. 39. 37. 36. 47. 23.  4. 14.  5.  3. 24. 11. 27.\n",
      " 26. 25. 46. 13. 12. 51. 10. 50. 32. 42.  9.  8.  7. 40. 18. 44. 31. 48.\n",
      "  0. 21. 30. 17.  2. 16.  1.  6. 41. 20. 22. 19. 49. 15. 28. 29.]\n",
      "当前迭代次数40\n",
      "最短路径7823.04192938米\n",
      "经过城市[49. 19. 22. 29. 28. 15. 45. 43. 33. 34. 35. 38. 39. 37. 36. 47. 23.  4.\n",
      " 14.  5.  3. 24. 11. 27. 26. 25. 46. 12. 13. 51. 10. 50. 32. 42.  9.  8.\n",
      "  7. 40. 18. 44. 31. 48.  0. 21. 30. 17.  2. 16. 20. 41.  6.  1.]\n",
      "当前迭代次数60\n",
      "当前迭代次数80\n",
      "当前迭代次数100\n",
      "最短路径7815.29388828米\n",
      "经过城市[49. 19. 22. 30. 17.  2. 16. 20. 41.  6.  1. 29. 28. 15. 45. 47. 23.  4.\n",
      " 14.  5.  3. 24. 11. 27. 26. 25. 46. 12. 13. 51. 10. 50. 32. 42.  9.  8.\n",
      "  7. 40. 18. 44. 31. 48.  0. 21. 34. 35. 38. 39. 37. 36. 33. 43.]\n",
      "当前迭代次数120\n",
      "最短路径7663.5851285米\n",
      "经过城市[22. 19. 49. 15. 45. 43. 33. 34. 35. 38. 39. 37. 36. 47. 23.  4. 14.  5.\n",
      "  3. 24. 11. 27. 26. 25. 46. 12. 13. 51. 10. 50. 32. 42.  9.  8.  7. 40.\n",
      " 18. 44. 31. 48.  0. 21. 30. 17.  2. 16. 20. 41.  6.  1. 29. 28.]\n",
      "当前迭代次数140\n",
      "当前迭代次数160\n",
      "当前迭代次数180\n"
     ]
    }
   ],
   "source": [
    "while iter < itermax:\n",
    "    if numant <= numcity:\n",
    "        pathtable[:,0] = np.random.permutation(range(0,numcity))[:numant]\n",
    "    else:\n",
    "        pathtable[:numcity, 0] = np.random.permutation(range(0,numcity))[:]\n",
    "        pathtable[numcity:, 0] = np.random.permutation(range(0, numcity))[:numant-numcity]\n",
    "    length = np.zeros(numant)\n",
    "    for i in range(numant):\n",
    "        visiting = pathtable[i,0]\n",
    "        unvisited = set(range(numcity))\n",
    "        unvisited.remove(visiting)\n",
    "        \n",
    "        for j in range(1, numcity):\n",
    "            listunvisited = list(unvisited)\n",
    "            probtrans = np.zeros(len(listunvisited))\n",
    "\n",
    "            for k in range(len(listunvisited)):\n",
    "                probtrans[k] = np.power(pheromonetable[visiting][listunvisited[k]], alpha) * np.power(etatable[visiting][listunvisited[k]],beta)\n",
    "            cumsumprobtrans = (probtrans/sum(probtrans)).cumsum()# ?\n",
    "            cumsumprobtrans -= np.random.rand()\n",
    "            k = listunvisited[np.where(cumsumprobtrans>0)[0][0]]\n",
    "            pathtable[i,j] = k\n",
    "            unvisited.remove(k)\n",
    "\n",
    "            length[i] += distmat[visiting][k]\n",
    "            visiting = k\n",
    "\n",
    "        length[i] += distmat[visiting][pathtable[i,0]]\n",
    "\n",
    "    lengthaver[iter] = length.mean()\n",
    "    if iter == 0:\n",
    "        lengthbest[iter] = length.min()\n",
    "        pathbest[iter] = pathtable[length.argmin()].copy()\n",
    "    else:\n",
    "        if length.min() > lengthbest[iter-1]:\n",
    "            lengthbest[iter] = lengthbest[iter-1]\n",
    "            pathbest[iter] = pathbest[iter-1].copy()\n",
    "        else:\n",
    "            lengthbest[iter] = length.min()\n",
    "            pathbest[iter] = pathtable[length.argmin()].copy()\n",
    "            print(\"最短路径{}米\".format(lengthbest[iter]))\n",
    "            print(\"经过城市{}\".format(pathbest[iter]))\n",
    "            \n",
    "    change_pheromone_table = np.zeros((numcity,numcity))\n",
    "    for i in range(numant):\n",
    "        for j in range(numcity-1):\n",
    "            change_pheromone_table[pathtable[i,j]][pathtable[i,j+1]] += Q/distmat[pathtable[i,j]][pathtable[i,j+1]]\n",
    "        change_pheromone_table[pathtable[i,j+1]][pathtable[i,0]] += Q/distmat[pathtable[i,j+1]][pathtable[i,0]]\n",
    "    pheromonetable = (1-rho)*pheromonetable + change_pheromone_table\n",
    "    \n",
    "    iter += 1\n",
    "    if (iter-1)%20 == 0:\n",
    "        print(\"当前迭代次数{}\".format(iter-1))\n"
   ]
  },
  {
   "cell_type": "code",
   "execution_count": 59,
   "metadata": {},
   "outputs": [
    {
     "name": "stdout",
     "output_type": "stream",
     "text": [
      "9\n"
     ]
    }
   ],
   "source": [
    "for j in range(10):\n",
    "    i = j\n",
    "print(j)"
   ]
  },
  {
   "cell_type": "code",
   "execution_count": 56,
   "metadata": {},
   "outputs": [
    {
     "data": {
      "text/plain": [
       "array([0., 0., 0., 0., 0., 0., 0., 0., 0., 0., 0., 0., 0., 0., 0., 0., 0.,\n",
       "       0., 0., 0., 0., 0., 0., 0., 0., 0., 0., 0., 0., 0., 0., 0., 0., 0.,\n",
       "       0., 0., 0., 0., 0., 0.])"
      ]
     },
     "execution_count": 56,
     "metadata": {},
     "output_type": "execute_result"
    }
   ],
   "source": [
    "np.zeros(numant)"
   ]
  },
  {
   "cell_type": "code",
   "execution_count": null,
   "metadata": {},
   "outputs": [],
   "source": []
  }
 ],
 "metadata": {
  "kernelspec": {
   "display_name": "Python [conda env:py2]",
   "language": "python",
   "name": "conda-env-py2-py"
  },
  "language_info": {
   "codemirror_mode": {
    "name": "ipython",
    "version": 2
   },
   "file_extension": ".py",
   "mimetype": "text/x-python",
   "name": "python",
   "nbconvert_exporter": "python",
   "pygments_lexer": "ipython2",
   "version": "2.7.14"
  }
 },
 "nbformat": 4,
 "nbformat_minor": 2
}
