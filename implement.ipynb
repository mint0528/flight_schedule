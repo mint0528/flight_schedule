{
 "cells": [
  {
   "cell_type": "code",
   "execution_count": 1,
   "metadata": {},
   "outputs": [],
   "source": [
    "import pandas as pd"
   ]
  },
  {
   "cell_type": "code",
   "execution_count": 2,
   "metadata": {},
   "outputs": [],
   "source": [
    "import numpy as np"
   ]
  },
  {
   "cell_type": "code",
   "execution_count": 3,
   "metadata": {},
   "outputs": [],
   "source": [
    "import matplotlib.pyplot as plt"
   ]
  },
  {
   "cell_type": "code",
   "execution_count": 4,
   "metadata": {},
   "outputs": [],
   "source": [
    "import re"
   ]
  },
  {
   "cell_type": "code",
   "execution_count": 5,
   "metadata": {},
   "outputs": [],
   "source": [
    "%matplotlib inline"
   ]
  },
  {
   "cell_type": "code",
   "execution_count": 6,
   "metadata": {
    "scrolled": false
   },
   "outputs": [],
   "source": [
    "# read fs_0506.csv\n",
    "fs_0506 = pd.read_csv('fs0506.csv', index_col='flight_id') # May 6th flight schedule"
   ]
  },
  {
   "cell_type": "code",
   "execution_count": 7,
   "metadata": {},
   "outputs": [],
   "source": [
    "# read initial_p1.csv\n",
    "initial_p1 = pd.read_csv('initial_p1.csv', index_col=0) # initial pheromone matrix"
   ]
  },
  {
   "cell_type": "code",
   "execution_count": 8,
   "metadata": {},
   "outputs": [
    {
     "data": {
      "text/plain": [
       "582"
      ]
     },
     "execution_count": 8,
     "metadata": {},
     "output_type": "execute_result"
    }
   ],
   "source": [
    "len(initial_p1.index)"
   ]
  },
  {
   "cell_type": "code",
   "execution_count": 9,
   "metadata": {},
   "outputs": [],
   "source": [
    "# Hyper Parameters for ant colony algorithm.\n",
    "numant = 40 # 蚂蚁的个数\n",
    "\n",
    "numcity = len(initial_p1.index) #城市的个数 582\n",
    "\n",
    "alpha = 1  # 信息重要程度因子? 这是什么?\n",
    "\n",
    "beta = 5 # 启发函数因子\n",
    "\n",
    "rho = 0.1 # 信息素挥发程度\n",
    "\n",
    "Q = 1 # 信息素常数\n",
    "\n",
    "iter = 0 \n",
    "\n",
    "itermax = 200"
   ]
  },
  {
   "cell_type": "code",
   "execution_count": 10,
   "metadata": {},
   "outputs": [],
   "source": [
    "# pheromone matrix\n",
    "pheromonetable = initial_p1.copy()"
   ]
  },
  {
   "cell_type": "code",
   "execution_count": 11,
   "metadata": {},
   "outputs": [],
   "source": [
    "# Pheromone index list\n",
    "# make a index list(string) corresponds to Pheromone table's index(number)\n",
    "name_list = pheromonetable.index.values\n",
    "# 把Pheromone表index转化为数字保存成list"
   ]
  },
  {
   "cell_type": "code",
   "execution_count": 12,
   "metadata": {},
   "outputs": [],
   "source": [
    "# change Pheromone_table into array in order to be consistant as original one.\n",
    "pheromonetable = pheromonetable.values"
   ]
  },
  {
   "cell_type": "code",
   "execution_count": 13,
   "metadata": {},
   "outputs": [],
   "source": [
    "pathtable = np.zeros((numant, numcity)).astype(int) # 路径记录表 (每一只蚂蚁走过的城市顺序) 40x582\n",
    "\n",
    "lengthaver = np.zeros(itermax) # cost average per iteration 200x1\n",
    "\n",
    "lengthbest = np.zeros(itermax) # 用来记录200次迭代的最佳长度, 也就是每次的最短长度. 200x1\n",
    "\n",
    "pathbest = np.zeros((itermax, numcity)) # 每次迭代最短路径的城市顺序 200x582"
   ]
  },
  {
   "cell_type": "code",
   "execution_count": 55,
   "metadata": {},
   "outputs": [
    {
     "name": "stdout",
     "output_type": "stream",
     "text": [
      "Automatic pdb calling has been turned ON\n"
     ]
    }
   ],
   "source": [
    "%pdb"
   ]
  },
  {
   "cell_type": "code",
   "execution_count": 14,
   "metadata": {},
   "outputs": [],
   "source": [
    "num_plane = len(fs_0506.aircraft_id.unique()) # 121"
   ]
  },
  {
   "cell_type": "code",
   "execution_count": 15,
   "metadata": {},
   "outputs": [],
   "source": [
    "# BUG: etatable is not defined\n",
    "# Solution: delete etable\n",
    "# BUG: name 'distmat' is not defined\n",
    "# Solution: define cost function to replace distmat"
   ]
  },
  {
   "cell_type": "code",
   "execution_count": 138,
   "metadata": {},
   "outputs": [],
   "source": [
    "def cancelled(translate_path):\n",
    "    '''\n",
    "    如果没有在tranlate_path中出现, 那么就是取消的航班.\n",
    "    输入: list\n",
    "    输出: list\n",
    "    '''\n",
    "    # translate_path 和 initial_p1 的 index 的 差.\n",
    "    return list(set(initial_p1.index.values).difference(set(translate_path)))"
   ]
  },
  {
   "cell_type": "code",
   "execution_count": 139,
   "metadata": {},
   "outputs": [],
   "source": [
    "def flight_air_match_dict(translate_path):\n",
    "    '''\n",
    "    Return two dicts refelct flight and airplane independently.\n",
    "    Input: list ['axx', 'fxx', 'fxx', ... , 'axx'...]\n",
    "    Output1: dict flight_airplane_dict {\"fxx\": \"axx\", ... \"fxx\": \"axx\"}\n",
    "    Output2: dict airplane_flight_dict {\"axx\": [\"fxx\", ... , \"fxx\"], ... , \"axx\": [\"fxx\", ... , \"fxx\"]}\n",
    "    '''\n",
    "    transfered_list = ''.join(translate_path) # change list to one string.\n",
    "    regex = r\"(a\\d+)((f\\d+)+)\"\n",
    "    matches = re.finditer(regex, transfered_list)\n",
    "    flight_airplane_dict = {} # {\"fxx\": \"axx\", ... \"fxx\": \"axx\"}\n",
    "    airplane_flight_dict = {} # {\"axx\": [\"fxx\", ... , \"fxx\"], ... , \"axx\": [\"fxx\", ... , \"fxx\"]}\n",
    "    for matchNum, match in enumerate(matches):\n",
    "        a = match.group(1)\n",
    "        f = match.group(2)\n",
    "        regex = r\"f\\d+\"\n",
    "        f = re.findall(regex, f)\n",
    "        flight_airplane_dict = merge_two_dicts(flight_airplane_dict, {i: a for i in f})\n",
    "        airplane_flight_dict = merge_two_dicts(airplane_flight_dict, {a : f})\n",
    "    return flight_airplane_dict, airplane_flight_dict"
   ]
  },
  {
   "cell_type": "code",
   "execution_count": 140,
   "metadata": {},
   "outputs": [],
   "source": [
    "def merge_two_dicts(x, y):\n",
    "    z = x.copy()   # start with x's keys and values\n",
    "    z.update(y)    # modifies z with y's keys and values & returns None\n",
    "    return z\n",
    "\n",
    "def calculate_x(flight_airplane_dict, cancell_list):\n",
    "    '''\n",
    "    calculate x from flight_air_dict and cancell_list\n",
    "    if cancelled , x = 0\n",
    "    if new path is not consistent with old one, means airplane has been changed.\n",
    "    input\n",
    "    -----\n",
    "    flight_airplane_dict: {\"fxx\": \"axx\", ... \"fxx\": \"axx\"}\n",
    "    cancell_list: [\"fxx\", \"fxx\", ..., \"fxx\"]\n",
    "    return\n",
    "    ------\n",
    "    x_dict: {\"fxx\": bool, ...}\n",
    "    '''\n",
    "    \n",
    "    keys = flight_airplane_dict.keys()\n",
    "    x_dict = {key: int(flight_airplane_dict[key] != fs_0506.loc[key].aircraft_id) for key in keys}\n",
    "    x_dict = merge_two_dicts(x_dict, {cancelled_flight_id: 0 for cancelled_flight_id in cancell_list})\n",
    "    return x_dict"
   ]
  },
  {
   "cell_type": "code",
   "execution_count": 141,
   "metadata": {},
   "outputs": [],
   "source": [
    "# debug cancelled return []\n",
    "# solutiuon: change position of diff."
   ]
  },
  {
   "cell_type": "code",
   "execution_count": 142,
   "metadata": {},
   "outputs": [],
   "source": [
    "# cost function\n",
    "def calculate_xyz(path):\n",
    "    \"\"\"calculate x y z for cost funtion\"\"\"\n",
    "    translate_path = [name_list[i] for i in path]\n",
    "    cancelled_list = cancelled(translate_path)\n",
    "    print(cancelled_list)\n",
    "    # print(\"cancell list length\", len(cancelled_list))\n",
    "    fad, afd = flight_air_match_dict(translate_path) # {flight:air} and {air:flight}\n",
    "    x_dict = calculate_x(fad, cancelled_list)\n",
    "    return x_dict\n",
    "    \n",
    "\n",
    "# def assign_func(translate_path):\n",
    "#     '''\n",
    "#     Input: list\n",
    "#     step1: turn list of string into one string.\n",
    "#     step2: find flight in time sequence.\n",
    "#     Return: {'a19':['f2033', ...,'f1963']}\n",
    "#     '''\n",
    "#     # step1\n",
    "#     transfered_list = ''.join(translate_path) # change list to one string.\n",
    "#     x_dict = calculate_x(transfered_list)  # {flight_id: 1, ...., flight_id:0}\n",
    "#     return x_dict\n",
    "def cost(path):\n",
    "    \"\"\"return a matrix\"\"\"\n",
    "    # cost is a combination of x, y, z, indicate flight status.\n",
    "    calculate_xyz(path)"
   ]
  },
  {
   "cell_type": "code",
   "execution_count": 197,
   "metadata": {},
   "outputs": [
    {
     "name": "stdout",
     "output_type": "stream",
     "text": [
      "[  0 195 206  47  59 318 249 117  80 354 381 334 312 289 145 353 244  81\n",
      "  91 279 154 196 464 258 247 308 161  12 345 281 388 323 316 329 280   7\n",
      " 359   5 178 111 423 371 449 224 223 298 374  43  13 400 204 331  38 106\n",
      " 240  28   1 335 452 356 339 456 313 214 311 166 476 474 168  90 412 309\n",
      " 264 232 162 446 433 272  31  64 197 330  21 156 137 383 260  74   3 209\n",
      " 437 347 440 171 109 393 175 288 403   9 337 150 333 413  69 158  37 186\n",
      " 180 245 188  48 415  67 406 155 445 302 165 265 133 163  77  82 434 119\n",
      " 200 226  60 361 236 248   8 105  61 322 306 422 387 376 126 398 454 409\n",
      " 447 243  23  54 414 229 468 370 231 235 212 299 340 416 254 438 253 256\n",
      " 108 364  20 349 293 443 131  34 140 251 107 130 193 473 179 250  50  17\n",
      " 475 373 436 276 360 129 397 153  18 386 113  56  99 255  32  68  87 396\n",
      " 296 421 160  70 358  15 191 187 189  73 466 481 173 170  19 246 228 455\n",
      "  46 325 273  78 319 266 220 417 332 216 385 177  51 407 367 448  85 124\n",
      " 310 275 215 350 305 287 450 362  84 199 425  52 352 391 174 207 439 301\n",
      "  71 152 241 346  44 239 284 317 100  96 375 431 267 461 115 138 263  45\n",
      " 336  92 147 384 341 190 144 118 320 300 427 184  95 435  97 230  33  27\n",
      " 149 326  79  57 343 451 227 274 208 377 225  16  25 457 379 210 444 290\n",
      "   2 285 467  39 222  22 194 114 295 112 234 380  88 134 139 103 402 252\n",
      " 392 348  93 297 424 399 278  49 143 442 351  14 146 268 470 120 259  66\n",
      " 426 181 213 469 257 282  29 185   6  58 315 219 453  62 211 338 389 128\n",
      " 344 357  53 135 465 292 441 182 432 428 355 127  11 167  35  76   4 116\n",
      " 262 420 459 365 419 418  26 283 183 136  72 198 101 102  86 472  40 121\n",
      " 479  94 203 462  10 321 218 304 286 132 125 478 408 404  83 430 366 242\n",
      " 324 157 122 463  30 378 159 142 382 271 368 429 294 172  36 395 202 458\n",
      " 169 342 401 261  89 327 201 363 217 148 471  63 307 328 277 233 410  65\n",
      " 110 390 460 237  42 176  41 151  24 394  75 238 477 123 192 303 369 291\n",
      " 221 164 270 372 405 314 411 104  55 480 141 269 205  98]\n",
      "test path length is  482\n",
      "['f2212', 'f2325', 'f1895', 'f1923', 'f2108', 'f2071', 'f2114', 'f2335', 'f2348', 'f1982', 'f2023', 'f2049', 'f2359', 'f2001', 'f2188', 'f1949', 'f2073', 'f1927', 'f2346', 'f2292', 'f2092', 'f2332', 'f2277', 'f2320', 'f1883', 'f2241', 'f2053', 'f973', 'f2300', 'f2166', 'f2113', 'f2349', 'f2057', 'f2256', 'f2287', 'f2268', 'f1942', 'f2088', 'f2363', 'f2081', 'f1915', 'f2155', 'f2131', 'f2259', 'f2066', 'f2033', 'f1993', 'f2273', 'f2192', 'f2233', 'f2144', 'f2005', 'f1906', 'f1978', 'f1969', 'f2137', 'f2105', 'f2198', 'f1888', 'f2120', 'f1963', 'f2084', 'f2336', 'f2289', 'f2096', 'f2140', 'f2245', 'f2202', 'f2196', 'f2078', 'f2027', 'f2182', 'f2207', 'f2178', 'f2100', 'f2148', 'f1898', 'f1953', 'f2296', 'f2347', 'f2253', 'f2116', 'f2264', 'f2151', 'f1989', 'f1957', 'f1932', 'f2174', 'f2061', 'f1930', 'f2124', 'f2009', 'f1903', 'f1938', 'f2110', 'f1891', 'f2227', 'f1997', 'f2025', 'f2270']\n",
      "['f2212', 'f2325', 'f1895', 'f1923', 'f2108', 'f2071', 'f2114', 'f2335', 'f2348', 'f1982', 'f2023', 'f2049', 'f2359', 'f2001', 'f2188', 'f1949', 'f2073', 'f1927', 'f2346', 'f2292', 'f2092', 'f2332', 'f2277', 'f2320', 'f1883', 'f2241', 'f2053', 'f973', 'f2300', 'f2166', 'f2113', 'f2349', 'f2057', 'f2256', 'f2287', 'f2268', 'f1942', 'f2088', 'f2363', 'f2081', 'f1915', 'f2155', 'f2131', 'f2259', 'f2066', 'f2033', 'f1993', 'f2273', 'f2192', 'f2233', 'f2144', 'f2005', 'f1906', 'f1978', 'f1969', 'f2137', 'f2105', 'f2198', 'f1888', 'f2120', 'f1963', 'f2084', 'f2336', 'f2289', 'f2096', 'f2140', 'f2245', 'f2202', 'f2196', 'f2078', 'f2027', 'f2182', 'f2207', 'f2178', 'f2100', 'f2148', 'f1898', 'f1953', 'f2296', 'f2347', 'f2253', 'f2116', 'f2264', 'f2151', 'f1989', 'f1957', 'f1932', 'f2174', 'f2061', 'f1930', 'f2124', 'f2009', 'f1903', 'f1938', 'f2110', 'f1891', 'f2227', 'f1997', 'f2025', 'f2270']\n"
     ]
    },
    {
     "data": {
      "text/plain": [
       "461"
      ]
     },
     "execution_count": 197,
     "metadata": {},
     "output_type": "execute_result"
    }
   ],
   "source": [
    "# test cost fucntion\n",
    "_test_path = np.random.permutation(range(1, len(initial_p1.index[:-100])))\n",
    "_test_path = np.insert(_test_path, 0, 0)\n",
    "print(_test_path)\n",
    "print(\"test path length is \", len(_test_path))\n",
    "# test translate_path\n",
    "calculate_xyz(_test_path)\n",
    "# test assign_func step 1\n",
    "# assign_func(calculate_xyz(_test_path))\n",
    "# test cancelled function\n",
    "len(calculate_xyz(_test_path))"
   ]
  },
  {
   "cell_type": "code",
   "execution_count": 65,
   "metadata": {},
   "outputs": [
    {
     "ename": "NameError",
     "evalue": "name 'distmat' is not defined",
     "output_type": "error",
     "traceback": [
      "\u001b[0;31m---------------------------------------------------------------------------\u001b[0m",
      "\u001b[0;31mNameError\u001b[0m                                 Traceback (most recent call last)",
      "\u001b[0;32m<ipython-input-65-a7c72a879225>\u001b[0m in \u001b[0;36m<module>\u001b[0;34m()\u001b[0m\n\u001b[1;32m     37\u001b[0m             \u001b[0;31m# visited.add(k)\u001b[0m\u001b[0;34m\u001b[0m\u001b[0;34m\u001b[0m\u001b[0m\n\u001b[1;32m     38\u001b[0m \u001b[0;34m\u001b[0m\u001b[0m\n\u001b[0;32m---> 39\u001b[0;31m             \u001b[0mlength\u001b[0m\u001b[0;34m[\u001b[0m\u001b[0mi\u001b[0m\u001b[0;34m]\u001b[0m \u001b[0;34m+=\u001b[0m \u001b[0mdistmat\u001b[0m\u001b[0;34m[\u001b[0m\u001b[0mvisiting\u001b[0m\u001b[0;34m]\u001b[0m\u001b[0;34m[\u001b[0m\u001b[0mk\u001b[0m\u001b[0;34m]\u001b[0m \u001b[0;31m# 把蚂蚁之前城市到目前城市的距离算到总路程.\u001b[0m\u001b[0;34m\u001b[0m\u001b[0m\n\u001b[0m\u001b[1;32m     40\u001b[0m             \u001b[0mvisiting\u001b[0m \u001b[0;34m=\u001b[0m \u001b[0mk\u001b[0m \u001b[0;31m# 目前城市定位到k\u001b[0m\u001b[0;34m\u001b[0m\u001b[0m\n\u001b[1;32m     41\u001b[0m \u001b[0;34m\u001b[0m\u001b[0m\n",
      "\u001b[0;31mNameError\u001b[0m: name 'distmat' is not defined"
     ]
    }
   ],
   "source": [
    "while iter < itermax:\n",
    "    # 随机产生蚂蚁的起点城市\n",
    "    if numant <= num_plane:\n",
    "        pathtable[:, 0] = np.random.permutation(range(0, num_plane))[:numant] # 把起始城市按照蚂蚁数量随机分配\n",
    "    else: # 对于蚂蚁比城市多的情况, 也是把所有城市随机分给每一个蚂蚁\n",
    "        pathtable[:num_plane, 0] = np.random.permutation(range(0, num_plane))[:] # 先分配前面的蚂蚁, 保证每个城市都可能作为起点\n",
    "        pathtable[num_plane:, 0] = np.random.permutation(range(0, num_plane))[:numant - num_plane] # 再分配多出的蚂蚁, 随机分配\n",
    "    length = np.zeros(numant) # 蚂蚁的路径距离\n",
    "    \n",
    "    for i in range(numant): # 对于每一只蚂蚁\n",
    "        # pathtable 40 x 52\n",
    "        visiting = pathtable[i, 0] # 起始城市的位置, 就是之前随机分配的城市. visiting = \n",
    "        # visited = set() # 使用set记录所有去过的城市, 因为set是集合, 集合中的元素不可以重复.\n",
    "        # visited.add(visiting) # 每去一个城市, 把当前城市添加到集合里面.\n",
    "        unvisited = set(range(numcity)) # 创建为访问的城市集合\n",
    "        unvisited.remove(visiting) # 删除访问过的城市, 留下的就是没有访问的\n",
    "        \n",
    "        for j in range(1, numcity): # 访问完所有的城市需要的步数\n",
    "            # 下面是轮盘法的代码, 使用轮盘法选择下一个城市\n",
    "            # 轮盘法可能是一个选取城市的一个公式.\n",
    "            listunvistited = list(unvisited)\n",
    "            probtrans = np.zeros(len(listunvistited))\n",
    "            \n",
    "            for k in range(len(listunvistited)):\n",
    "                # 这个下面就是那个很复杂的方程.t时刻,蚂蚁k从城市i到城市j的概率的分子\n",
    "                # probtrans[k] = np.power(pheromonetable[visiting][listunvistited[k]], alpha)*np.power(etatable[visiting][listunvistited[k]], beta)\n",
    "                probtrans[k] = np.power(pheromonetable[visiting][listunvistited[k]], alpha)\n",
    "                # @TODO: 这里他写的是alpha, 按照公式应该是beta.\n",
    "            # 计算概率\n",
    "            cumsumprobtrans = (probtrans/sum(probtrans)).cumsum()\n",
    "            # 概率随机减去一点\n",
    "            cumsumprobtrans -= np.random.rand() # 减去的这一点可以让某些概率为负值.\n",
    "            k = listunvistited[np.where(cumsumprobtrans>0)[0][0]] # 下一个访问的城市. 城市为概率大于0的第一个城市.\n",
    "            # @TODO: 这个地方可能会有bug, 评论里面说的\n",
    "            pathtable[i,j] = k # 记录第i只蚂蚁在第j步访问的城市.\n",
    "            unvisited.remove(k) # 移除访问过的城市\n",
    "            # visited.add(k)\n",
    "            \n",
    "            #length[i] += distmat[visiting][k] # 把蚂蚁之前城市到目前城市的距离算到总路程.\n",
    "            visiting = k # 目前城市定位到k\n",
    "            length[i] = cost(path, )\n",
    "        length[i] += distmat[visiting][pathtable[i, 0]] # 从目前的城市回归起点城市的距离.\n",
    "        # print(\"第{}蚂蚁总共走了{}米\".format(i, length[i]))\n",
    "    #set_trace()\n",
    "    # 包含所有蚂蚁的一个迭代结束后, 统计这次迭代的统计参数.\n",
    "    lengthaver[iter] = length.mean() # 所有的蚂蚁在这一个循环中走过的平均距离\n",
    "    if iter == 0:\n",
    "        lengthbest[iter] = length.min()\n",
    "        pathbest[iter] = pathtable[length.argmin()].copy() # 走过路径最短的那个蚂蚁的路线作为最佳路线\n",
    "    else:\n",
    "        if length.min() > lengthbest[iter-1]: # 如果当前的最短路径大于上一次迭代的最短路径\n",
    "            lengthbest[iter] = lengthbest[iter-1] # 最短的路径依然是上次迭代的结果\n",
    "            pathbest[iter] = pathbest[iter-1].copy() # 最佳路径依然是之前的路径\n",
    "        else: # 如果当前路径最佳,更新最佳路径和最佳距离\n",
    "            lengthbest[iter] = length.min()\n",
    "            pathbest[iter] = pathtable[length.argmin()].copy()\n",
    "            print(\"最短路径{}米\".format(lengthbest[iter]))\n",
    "            print(\"经过城市{}\".format(pathbest[iter]))\n",
    "    # 更新信息素\n",
    "    change_pheromone_table = np.zeros((numcity, numcity))\n",
    "    for i in range(numant):\n",
    "        for j in range(numcity-1):\n",
    "            change_pheromone_table[pathtable[i,j]][pathtable[i, j+1]] += Q/distmat[pathtable[i,j]][pathtable[i, j+1]]\n",
    "        change_pheromone_table[pathtable[i, j+1]][pathtable[i, 0]] += Q/distmat[pathtable[i, j+1]][pathtable[i, 0]] # 从最后一个城市回到起点\n",
    "    pheromonetable = (1-rho)*pheromonetable + change_pheromone_table\n",
    "    \n",
    "    iter += 1\n",
    "    \n",
    "    if (iter-1)%20 == 0:\n",
    "        print(\"当前迭代次数{}\".format(iter-1))        "
   ]
  },
  {
   "cell_type": "code",
   "execution_count": null,
   "metadata": {},
   "outputs": [],
   "source": []
  }
 ],
 "metadata": {
  "kernelspec": {
   "display_name": "Python 3",
   "language": "python",
   "name": "python3"
  },
  "language_info": {
   "codemirror_mode": {
    "name": "ipython",
    "version": 3
   },
   "file_extension": ".py",
   "mimetype": "text/x-python",
   "name": "python",
   "nbconvert_exporter": "python",
   "pygments_lexer": "ipython3",
   "version": "3.5.2"
  },
  "widgets": {
   "state": {},
   "version": "1.1.2"
  }
 },
 "nbformat": 4,
 "nbformat_minor": 2
}
