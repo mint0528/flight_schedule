{
 "cells": [
  {
   "cell_type": "code",
   "execution_count": 1,
   "metadata": {},
   "outputs": [],
   "source": [
    "import pandas as pd"
   ]
  },
  {
   "cell_type": "code",
   "execution_count": 2,
   "metadata": {},
   "outputs": [],
   "source": [
    "import numpy as np"
   ]
  },
  {
   "cell_type": "code",
   "execution_count": 3,
   "metadata": {},
   "outputs": [],
   "source": [
    "import matplotlib.pyplot as plt"
   ]
  },
  {
   "cell_type": "code",
   "execution_count": 4,
   "metadata": {},
   "outputs": [],
   "source": [
    "import re"
   ]
  },
  {
   "cell_type": "code",
   "execution_count": 5,
   "metadata": {},
   "outputs": [],
   "source": [
    "%matplotlib inline"
   ]
  },
  {
   "cell_type": "code",
   "execution_count": 278,
   "metadata": {},
   "outputs": [],
   "source": [
    "from datetime import datetime as dt"
   ]
  },
  {
   "cell_type": "code",
   "execution_count": 295,
   "metadata": {
    "scrolled": false
   },
   "outputs": [],
   "source": [
    "# read fs_0506.csv\n",
    "parse_dates = ['date', 'de_time', 'la_time', 'flying_time']\n",
    "fs_0506 = pd.read_csv('fs0506.csv', index_col='flight_id', parse_dates=parse_dates) # May 6th flight schedule"
   ]
  },
  {
   "cell_type": "code",
   "execution_count": 298,
   "metadata": {},
   "outputs": [],
   "source": [
    "fs_0506.flying_time = pd.to_timedelta(fs_0506.flying_time)"
   ]
  },
  {
   "cell_type": "code",
   "execution_count": 299,
   "metadata": {},
   "outputs": [
    {
     "name": "stdout",
     "output_type": "stream",
     "text": [
      "<class 'pandas.core.frame.DataFrame'>\n",
      "Index: 461 entries, f10 to f2363\n",
      "Data columns (total 14 columns):\n",
      "date                      461 non-null datetime64[ns]\n",
      "domistic/international    461 non-null object\n",
      "flight_num                461 non-null int64\n",
      "de_ap                     461 non-null int64\n",
      "la_ap                     461 non-null int64\n",
      "de_time                   461 non-null datetime64[ns]\n",
      "la_time                   461 non-null datetime64[ns]\n",
      "aircraft_id               461 non-null object\n",
      "aircraft_type             461 non-null int64\n",
      "passenger_num             461 non-null int64\n",
      "connect_passenger_num     461 non-null int64\n",
      "seat_num                  461 non-null int64\n",
      "important_factor          461 non-null float64\n",
      "flying_time               461 non-null timedelta64[ns]\n",
      "dtypes: datetime64[ns](3), float64(1), int64(7), object(2), timedelta64[ns](1)\n",
      "memory usage: 74.0+ KB\n"
     ]
    }
   ],
   "source": [
    "fs_0506.info()"
   ]
  },
  {
   "cell_type": "code",
   "execution_count": 7,
   "metadata": {},
   "outputs": [],
   "source": [
    "# read initial_p1.csv\n",
    "initial_p1 = pd.read_csv('initial_p1.csv', index_col=0) # initial pheromone matrix"
   ]
  },
  {
   "cell_type": "code",
   "execution_count": 8,
   "metadata": {},
   "outputs": [
    {
     "data": {
      "text/plain": [
       "582"
      ]
     },
     "execution_count": 8,
     "metadata": {},
     "output_type": "execute_result"
    }
   ],
   "source": [
    "len(initial_p1.index)"
   ]
  },
  {
   "cell_type": "code",
   "execution_count": 9,
   "metadata": {},
   "outputs": [],
   "source": [
    "# Hyper Parameters for ant colony algorithm.\n",
    "numant = 40 # 蚂蚁的个数\n",
    "\n",
    "numcity = len(initial_p1.index) #城市的个数 582\n",
    "\n",
    "alpha = 1  # 信息重要程度因子? 这是什么?\n",
    "\n",
    "beta = 5 # 启发函数因子\n",
    "\n",
    "rho = 0.1 # 信息素挥发程度\n",
    "\n",
    "Q = 1 # 信息素常数\n",
    "\n",
    "iter = 0 \n",
    "\n",
    "itermax = 200"
   ]
  },
  {
   "cell_type": "code",
   "execution_count": 10,
   "metadata": {},
   "outputs": [],
   "source": [
    "# pheromone matrix\n",
    "pheromonetable = initial_p1.copy()"
   ]
  },
  {
   "cell_type": "code",
   "execution_count": 11,
   "metadata": {},
   "outputs": [],
   "source": [
    "# Pheromone index list\n",
    "# make a index list(string) corresponds to Pheromone table's index(number)\n",
    "name_list = pheromonetable.index.values\n",
    "# 把Pheromone表index转化为数字保存成list"
   ]
  },
  {
   "cell_type": "code",
   "execution_count": 12,
   "metadata": {},
   "outputs": [],
   "source": [
    "# change Pheromone_table into array in order to be consistant as original one.\n",
    "pheromonetable = pheromonetable.values"
   ]
  },
  {
   "cell_type": "code",
   "execution_count": 13,
   "metadata": {},
   "outputs": [],
   "source": [
    "pathtable = np.zeros((numant, numcity)).astype(int) # 路径记录表 (每一只蚂蚁走过的城市顺序) 40x582\n",
    "\n",
    "lengthaver = np.zeros(itermax) # cost average per iteration 200x1\n",
    "\n",
    "lengthbest = np.zeros(itermax) # 用来记录200次迭代的最佳长度, 也就是每次的最短长度. 200x1\n",
    "\n",
    "pathbest = np.zeros((itermax, numcity)) # 每次迭代最短路径的城市顺序 200x582"
   ]
  },
  {
   "cell_type": "code",
   "execution_count": 361,
   "metadata": {},
   "outputs": [],
   "source": [
    "P = [1, 2, 3, 4, 5] # This is five P values for p1, p2, p3, p4, p5."
   ]
  },
  {
   "cell_type": "code",
   "execution_count": 55,
   "metadata": {},
   "outputs": [
    {
     "name": "stdout",
     "output_type": "stream",
     "text": [
      "Automatic pdb calling has been turned ON\n"
     ]
    }
   ],
   "source": [
    "%pdb"
   ]
  },
  {
   "cell_type": "code",
   "execution_count": 14,
   "metadata": {},
   "outputs": [],
   "source": [
    "num_plane = len(fs_0506.aircraft_id.unique()) # 121"
   ]
  },
  {
   "cell_type": "code",
   "execution_count": 15,
   "metadata": {},
   "outputs": [],
   "source": [
    "# BUG: etatable is not defined\n",
    "# Solution: delete etable\n",
    "# BUG: name 'distmat' is not defined\n",
    "# Solution: define cost function to replace distmat"
   ]
  },
  {
   "cell_type": "code",
   "execution_count": 138,
   "metadata": {},
   "outputs": [],
   "source": [
    "def cancelled(translate_path):\n",
    "    '''\n",
    "    如果没有在tranlate_path中出现, 那么就是取消的航班.\n",
    "    输入: list\n",
    "    输出: list\n",
    "    '''\n",
    "    # translate_path 和 initial_p1 的 index 的 差.\n",
    "    return list(set(initial_p1.index.values).difference(set(translate_path)))"
   ]
  },
  {
   "cell_type": "code",
   "execution_count": 139,
   "metadata": {},
   "outputs": [],
   "source": [
    "def flight_air_match_dict(translate_path):\n",
    "    '''\n",
    "    Return two dicts refelct flight and airplane independently.\n",
    "    Input: list ['axx', 'fxx', 'fxx', ... , 'axx'...]\n",
    "    Output1: dict flight_airplane_dict {\"fxx\": \"axx\", ... \"fxx\": \"axx\"}\n",
    "    Output2: dict airplane_flight_dict {\"axx\": [\"fxx\", ... , \"fxx\"], ... , \"axx\": [\"fxx\", ... , \"fxx\"]}\n",
    "    '''\n",
    "    transfered_list = ''.join(translate_path) # change list to one string.\n",
    "    regex = r\"(a\\d+)((f\\d+)+)\"\n",
    "    matches = re.finditer(regex, transfered_list)\n",
    "    flight_airplane_dict = {} # {\"fxx\": \"axx\", ... \"fxx\": \"axx\"}\n",
    "    airplane_flight_dict = {} # {\"axx\": [\"fxx\", ... , \"fxx\"], ... , \"axx\": [\"fxx\", ... , \"fxx\"]}\n",
    "    for matchNum, match in enumerate(matches):\n",
    "        a = match.group(1)\n",
    "        f = match.group(2)\n",
    "        regex = r\"f\\d+\"\n",
    "        f = re.findall(regex, f)\n",
    "        flight_airplane_dict = merge_two_dicts(flight_airplane_dict, {i: a for i in f})\n",
    "        airplane_flight_dict = merge_two_dicts(airplane_flight_dict, {a : f})\n",
    "    return flight_airplane_dict, airplane_flight_dict"
   ]
  },
  {
   "cell_type": "code",
   "execution_count": 140,
   "metadata": {},
   "outputs": [],
   "source": [
    "def merge_two_dicts(x, y):\n",
    "    z = x.copy()   # start with x's keys and values\n",
    "    z.update(y)    # modifies z with y's keys and values & returns None\n",
    "    return z\n",
    "\n",
    "def calculate_x(flight_airplane_dict, cancell_list):\n",
    "    '''\n",
    "    calculate x from flight_air_dict and cancell_list\n",
    "    if cancelled , x = 0\n",
    "    if new path is not consistent with old one, means airplane has been changed.\n",
    "    input\n",
    "    -----\n",
    "    flight_airplane_dict: {\"fxx\": \"axx\", ... \"fxx\": \"axx\"}\n",
    "    cancell_list: [\"fxx\", \"fxx\", ..., \"fxx\"]\n",
    "    return\n",
    "    ------\n",
    "    x_dict: {\"fxx\": bool, ...}\n",
    "    '''\n",
    "    \n",
    "    keys = flight_airplane_dict.keys()\n",
    "    x_dict = {key: int(flight_airplane_dict[key] != fs_0506.loc[key].aircraft_id) for key in keys}\n",
    "    x_dict = merge_two_dicts(x_dict, {cancelled_flight_id: 0 for cancelled_flight_id in cancell_list})\n",
    "    return x_dict"
   ]
  },
  {
   "cell_type": "code",
   "execution_count": 141,
   "metadata": {},
   "outputs": [],
   "source": [
    "# debug cancelled return []\n",
    "# solutiuon: change position of diff."
   ]
  },
  {
   "cell_type": "code",
   "execution_count": 204,
   "metadata": {},
   "outputs": [],
   "source": [
    "def calculate_z(cancel_list):\n",
    "    '''\n",
    "    Funciton: get z dict from cancell list.\n",
    "    Input\n",
    "    -----\n",
    "    cancel_list: list of flight ID ['fxx', ... , 'fxx']\n",
    "    Return\n",
    "    ------\n",
    "    z_dict: dict ['flight': bool]\n",
    "    '''\n",
    "    z_dict = {key: 1 for key in cancel_list}\n",
    "    \n",
    "    z_dict = merge_two_dicts(z_dict, {key : 0 for key in list(set(fs_0506.index.values).difference(set(cancel_list)))})\n",
    "    return z_dict"
   ]
  },
  {
   "cell_type": "code",
   "execution_count": 246,
   "metadata": {},
   "outputs": [],
   "source": [
    "def calculatime_timestamp_interception(index1, index2, df=fs_0506, feature='la_time'):\n",
    "    '''\n",
    "    Function\n",
    "    --------\n",
    "    Given two filght id, calculate the latime delay between them.\n",
    "    Input\n",
    "    -----\n",
    "    flight1, flight2: string 'fxxx'\n",
    "    Output\n",
    "    ------\n",
    "    time: int (minutes)\n",
    "    '''\n",
    "    return (pd.to_datetime(df.loc[index1, feature]) - pd.to_datetime(df.loc[index2, feature])).seconds/60\n",
    "# test\n",
    "assert calculatime_timestamp_interception('f162', 'f10') == 705.0"
   ]
  },
  {
   "cell_type": "code",
   "execution_count": 385,
   "metadata": {},
   "outputs": [],
   "source": [
    "def calculate_y(cancel_list, air_flight_dict, delay_time=50):\n",
    "    '''\n",
    "    Function: calculate y\n",
    "    Input\n",
    "    -----\n",
    "    cancel_list: ['fxx', ... \"fxx\"]\n",
    "    air_flight_dict: {'axx': ['fxx', ..., 'fxx']}\n",
    "    delay_time: 50 min\n",
    "    Return\n",
    "    ------\n",
    "    y_dict: {'flight': bool}\n",
    "    delay_time: dict {'fxx': time}, time: int (minute)\n",
    "    '''\n",
    "    y_dict = {}\n",
    "    delay_time = {}\n",
    "    # I don't know how to write the rest of the code.\n",
    "    # May be the little cake will tell me.\n",
    "    # Or may not.\n",
    "    # If you can't understand the code below, it's not my fault.\n",
    "    # It's her fault.\n",
    "    \n",
    "    for item in air_flight_dict.items():\n",
    "        a, f_list = item # a: 'axx', f_list: ['fxx', ... , 'fxx']\n",
    "        y_dict = merge_two_dicts(y_dict, {f_list[0]: 0})\n",
    "        delay_time = merge_two_dicts(delay_time, {f_list[0]: pd.to_timedelta(0, 'm')})\n",
    "        for i in range(len(f_list)-1):\n",
    "            fi = f_list[i]\n",
    "            fj = f_list[i+1] \n",
    "            y = y_dict[fi]\n",
    "            if y == 0 :\n",
    "                f1_de = fs_0506.loc[fi, 'de_time']\n",
    "            elif y != 0:\n",
    "                f1_de = fs_0506.loc[fi, 'de_time'] + delay_time[fi]\n",
    "            f2_de = fs_0506.loc[fj, 'de_time']\n",
    "            actual_la = f1_de + fs_0506.loc[fi, 'flying_time'] + pd.to_timedelta(50, 'm')\n",
    "            if  actual_la <= f2_de:\n",
    "                y_dict[f_list[i+1]] = 0\n",
    "                delay_time[f_list[i+1]] = pd.to_timedelta(0, 'm')\n",
    "            else:\n",
    "                y_dict[f_list[i+1]] = 1\n",
    "                delay_time[f_list[i+1]] = actual_la - f2_de\n",
    "    cancell_dict = {key:0 for key in cancel_list}\n",
    "    delay_time = {k: int(value.seconds/60) for k, value in delay_time.items()}\n",
    "    return merge_two_dicts(y_dict, cancell_dict), merge_two_dicts(delay_time, cancell_dict)"
   ]
  },
  {
   "cell_type": "code",
   "execution_count": 388,
   "metadata": {},
   "outputs": [],
   "source": [
    "# cost function\n",
    "def calculate_xyz(path):\n",
    "    \"\"\"calculate x y z for cost funtion\"\"\"\n",
    "    translate_path = [name_list[i] for i in path]\n",
    "    cancelled_list = cancelled(translate_path)\n",
    "    # print(cancelled_list)\n",
    "    # print(\"cancell list length\", len(cancelled_list))\n",
    "    fad, afd = flight_air_match_dict(translate_path) # {flight:air} and {air:flight}\n",
    "    x_dict = calculate_x(fad, cancelled_list)\n",
    "    z_dict = calculate_z(cancelled_list)\n",
    "    y_dict, delay_time_dict = calculate_y(cancelled_list, air_flight_dict=afd)\n",
    "    return x_dict, y_dict, z_dict, delay_time_dict\n",
    "\n",
    "# def assign_func(translate_path):\n",
    "#     '''\n",
    "#     Input: list\n",
    "#     step1: turn list of string into one string.\n",
    "#     step2: find flight in time sequence.\n",
    "#     Return: {'a19':['f2033', ...,'f1963']}\n",
    "#     '''\n",
    "#     # step1\n",
    "#     transfered_list = ''.join(translate_path) # change list to one string.\n",
    "#     x_dict = calculate_x(transfered_list)  # {flight_id: 1, ...., flight_id:0}\n",
    "#     return x_dict\n",
    "def cost(path, p=[15, 1e2, 1200, 1, 4]):\n",
    "    \"\"\"\n",
    "    Input: path [0, 2, 3, ..., 68]\n",
    "    Output: float\n",
    "    \"\"\"\n",
    "    # cost is a combination of x, y, z, indicate flight status.\n",
    "    p1, p2, p3, p4, p5 = p\n",
    "    x, y, z, delay = calculate_xyz(path) # RETURN 4 dict. {'fxxx': bool}\n",
    "    cost = 0\n",
    "    for fid in fs_0506.index.values:\n",
    "        cost = cost + x[fid] * p1 + delay[fid] *p2 + z[fid] * p3 + \\\n",
    "        (y[fid] * delay[fid] *p4 +z[fid] *p5)* fs_0506.loc[fid, 'passenger_num'] + \\\n",
    "        (y[fid] + z[fid]) * fs_0506.loc[fid, 'connect_passenger_num'] *p5\n",
    "    return cost"
   ]
  },
  {
   "cell_type": "code",
   "execution_count": 389,
   "metadata": {
    "scrolled": false
   },
   "outputs": [
    {
     "data": {
      "text/plain": [
       "28436291.0"
      ]
     },
     "execution_count": 389,
     "metadata": {},
     "output_type": "execute_result"
    }
   ],
   "source": [
    "# test cost fucntion\n",
    "_test_path = np.random.permutation(range(1, len(initial_p1.index[:-100])))\n",
    "_test_path = np.insert(_test_path, 0, 0)\n",
    "# print(_test_path)\n",
    "# print(\"test path length is \", len(_test_path))\n",
    "# test translate_path\n",
    "calculate_xyz(_test_path)\n",
    "# test assign_func step 1\n",
    "# assign_func(calculate_xyz(_test_path))\n",
    "# test cancelled function\n",
    "# assert len(calculate_xyz(_test_path))==461\n",
    "# test calculate z\n",
    "# assert len(calculate_xyz(_test_path)) == 461\n",
    "# test calculate y\n",
    "# afd, y_dict, delay_time = calculate_xyz(_test_path)\n",
    "# print(afd['a136'])\n",
    "# for i in afd['a136']:\n",
    "#     print(\"id:\", i, \"y:\",y_dict[i], \"delay time:\", delay_time[i])\n",
    "# fs_0506.loc[afd['a136']]\n",
    "# len(y_dict)\n",
    "# test cost\n",
    "cost(_test_path)"
   ]
  },
  {
   "cell_type": "code",
   "execution_count": 342,
   "metadata": {},
   "outputs": [
    {
     "name": "stdout",
     "output_type": "stream",
     "text": [
      "0\n",
      "0\n",
      "0\n",
      "0\n",
      "1\n",
      "0 days 01:10:00\n",
      "1\n",
      "0 days 12:15:00\n"
     ]
    }
   ],
   "source": [
    "for i in ['f597', 'f943', 'f946', 'f868']:\n",
    "    print(y_dict[i])\n",
    "    print(delay_time[i])\n",
    "\n",
    "fs_0506.loc[['f597', 'f943', 'f946', 'f868']]"
   ]
  },
  {
   "cell_type": "code",
   "execution_count": 65,
   "metadata": {},
   "outputs": [
    {
     "ename": "NameError",
     "evalue": "name 'distmat' is not defined",
     "output_type": "error",
     "traceback": [
      "\u001b[0;31m---------------------------------------------------------------------------\u001b[0m",
      "\u001b[0;31mNameError\u001b[0m                                 Traceback (most recent call last)",
      "\u001b[0;32m<ipython-input-65-a7c72a879225>\u001b[0m in \u001b[0;36m<module>\u001b[0;34m()\u001b[0m\n\u001b[1;32m     37\u001b[0m             \u001b[0;31m# visited.add(k)\u001b[0m\u001b[0;34m\u001b[0m\u001b[0;34m\u001b[0m\u001b[0m\n\u001b[1;32m     38\u001b[0m \u001b[0;34m\u001b[0m\u001b[0m\n\u001b[0;32m---> 39\u001b[0;31m             \u001b[0mlength\u001b[0m\u001b[0;34m[\u001b[0m\u001b[0mi\u001b[0m\u001b[0;34m]\u001b[0m \u001b[0;34m+=\u001b[0m \u001b[0mdistmat\u001b[0m\u001b[0;34m[\u001b[0m\u001b[0mvisiting\u001b[0m\u001b[0;34m]\u001b[0m\u001b[0;34m[\u001b[0m\u001b[0mk\u001b[0m\u001b[0;34m]\u001b[0m \u001b[0;31m# 把蚂蚁之前城市到目前城市的距离算到总路程.\u001b[0m\u001b[0;34m\u001b[0m\u001b[0m\n\u001b[0m\u001b[1;32m     40\u001b[0m             \u001b[0mvisiting\u001b[0m \u001b[0;34m=\u001b[0m \u001b[0mk\u001b[0m \u001b[0;31m# 目前城市定位到k\u001b[0m\u001b[0;34m\u001b[0m\u001b[0m\n\u001b[1;32m     41\u001b[0m \u001b[0;34m\u001b[0m\u001b[0m\n",
      "\u001b[0;31mNameError\u001b[0m: name 'distmat' is not defined"
     ]
    }
   ],
   "source": [
    "while iter < itermax:\n",
    "    # 随机产生蚂蚁的起点城市\n",
    "    if numant <= num_plane:\n",
    "        pathtable[:, 0] = np.random.permutation(range(0, num_plane))[:numant] # 把起始城市按照蚂蚁数量随机分配\n",
    "    else: # 对于蚂蚁比城市多的情况, 也是把所有城市随机分给每一个蚂蚁\n",
    "        pathtable[:num_plane, 0] = np.random.permutation(range(0, num_plane))[:] # 先分配前面的蚂蚁, 保证每个城市都可能作为起点\n",
    "        pathtable[num_plane:, 0] = np.random.permutation(range(0, num_plane))[:numant - num_plane] # 再分配多出的蚂蚁, 随机分配\n",
    "    length = np.zeros(numant) # 蚂蚁的路径距离\n",
    "    \n",
    "    for i in range(numant): # 对于每一只蚂蚁\n",
    "        # pathtable 40 x 52\n",
    "        visiting = pathtable[i, 0] # 起始城市的位置, 就是之前随机分配的城市. visiting = \n",
    "        # visited = set() # 使用set记录所有去过的城市, 因为set是集合, 集合中的元素不可以重复.\n",
    "        # visited.add(visiting) # 每去一个城市, 把当前城市添加到集合里面.\n",
    "        unvisited = set(range(numcity)) # 创建为访问的城市集合\n",
    "        unvisited.remove(visiting) # 删除访问过的城市, 留下的就是没有访问的\n",
    "        \n",
    "        for j in range(1, numcity): # 访问完所有的城市需要的步数\n",
    "            # 下面是轮盘法的代码, 使用轮盘法选择下一个城市\n",
    "            # 轮盘法可能是一个选取城市的一个公式.\n",
    "            listunvistited = list(unvisited)\n",
    "            probtrans = np.zeros(len(listunvistited))\n",
    "            \n",
    "            for k in range(len(listunvistited)):\n",
    "                # 这个下面就是那个很复杂的方程.t时刻,蚂蚁k从城市i到城市j的概率的分子\n",
    "                # probtrans[k] = np.power(pheromonetable[visiting][listunvistited[k]], alpha)*np.power(etatable[visiting][listunvistited[k]], beta)\n",
    "                probtrans[k] = np.power(pheromonetable[visiting][listunvistited[k]], alpha)\n",
    "                # @TODO: 这里他写的是alpha, 按照公式应该是beta.\n",
    "            # 计算概率\n",
    "            cumsumprobtrans = (probtrans/sum(probtrans)).cumsum()\n",
    "            # 概率随机减去一点\n",
    "            cumsumprobtrans -= np.random.rand() # 减去的这一点可以让某些概率为负值.\n",
    "            k = listunvistited[np.where(cumsumprobtrans>0)[0][0]] # 下一个访问的城市. 城市为概率大于0的第一个城市.\n",
    "            # @TODO: 这个地方可能会有bug, 评论里面说的\n",
    "            pathtable[i,j] = k # 记录第i只蚂蚁在第j步访问的城市.\n",
    "            unvisited.remove(k) # 移除访问过的城市\n",
    "            # visited.add(k)\n",
    "            \n",
    "            #length[i] += distmat[visiting][k] # 把蚂蚁之前城市到目前城市的距离算到总路程.\n",
    "            visiting = k # 目前城市定位到k\n",
    "            length[i] = cost(path, )\n",
    "        length[i] += distmat[visiting][pathtable[i, 0]] # 从目前的城市回归起点城市的距离.\n",
    "        # print(\"第{}蚂蚁总共走了{}米\".format(i, length[i]))\n",
    "    #set_trace()\n",
    "    # 包含所有蚂蚁的一个迭代结束后, 统计这次迭代的统计参数.\n",
    "    lengthaver[iter] = length.mean() # 所有的蚂蚁在这一个循环中走过的平均距离\n",
    "    if iter == 0:\n",
    "        lengthbest[iter] = length.min()\n",
    "        pathbest[iter] = pathtable[length.argmin()].copy() # 走过路径最短的那个蚂蚁的路线作为最佳路线\n",
    "    else:\n",
    "        if length.min() > lengthbest[iter-1]: # 如果当前的最短路径大于上一次迭代的最短路径\n",
    "            lengthbest[iter] = lengthbest[iter-1] # 最短的路径依然是上次迭代的结果\n",
    "            pathbest[iter] = pathbest[iter-1].copy() # 最佳路径依然是之前的路径\n",
    "        else: # 如果当前路径最佳,更新最佳路径和最佳距离\n",
    "            lengthbest[iter] = length.min()\n",
    "            pathbest[iter] = pathtable[length.argmin()].copy()\n",
    "            print(\"最短路径{}米\".format(lengthbest[iter]))\n",
    "            print(\"经过城市{}\".format(pathbest[iter]))\n",
    "    # 更新信息素\n",
    "    change_pheromone_table = np.zeros((numcity, numcity))\n",
    "    for i in range(numant):\n",
    "        for j in range(numcity-1):\n",
    "            change_pheromone_table[pathtable[i,j]][pathtable[i, j+1]] += Q/distmat[pathtable[i,j]][pathtable[i, j+1]]\n",
    "        change_pheromone_table[pathtable[i, j+1]][pathtable[i, 0]] += Q/distmat[pathtable[i, j+1]][pathtable[i, 0]] # 从最后一个城市回到起点\n",
    "    pheromonetable = (1-rho)*pheromonetable + change_pheromone_table\n",
    "    \n",
    "    iter += 1\n",
    "    \n",
    "    if (iter-1)%20 == 0:\n",
    "        print(\"当前迭代次数{}\".format(iter-1))        "
   ]
  },
  {
   "cell_type": "code",
   "execution_count": null,
   "metadata": {},
   "outputs": [],
   "source": []
  }
 ],
 "metadata": {
  "kernelspec": {
   "display_name": "Python 3",
   "language": "python",
   "name": "python3"
  },
  "language_info": {
   "codemirror_mode": {
    "name": "ipython",
    "version": 3
   },
   "file_extension": ".py",
   "mimetype": "text/x-python",
   "name": "python",
   "nbconvert_exporter": "python",
   "pygments_lexer": "ipython3",
   "version": "3.5.2"
  },
  "widgets": {
   "state": {},
   "version": "1.1.2"
  }
 },
 "nbformat": 4,
 "nbformat_minor": 2
}
